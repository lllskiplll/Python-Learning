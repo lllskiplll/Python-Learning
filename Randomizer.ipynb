{
 "cells": [
  {
   "cell_type": "code",
   "execution_count": 1,
   "id": "6bd43dbc",
   "metadata": {},
   "outputs": [
    {
     "name": "stdout",
     "output_type": "stream",
     "text": [
      "Geben sie die Namen ein mit , \n",
      "test,test,test,test,test,test\n"
     ]
    }
   ],
   "source": [
    "randomuser=input(\"Geben sie die Namen ein mit , \\n\")"
   ]
  },
  {
   "cell_type": "code",
   "execution_count": 105,
   "id": "aec76179",
   "metadata": {},
   "outputs": [
    {
     "name": "stdout",
     "output_type": "stream",
     "text": [
      "Geben sie die Namen ein mit , \n",
      "test\n",
      "['test']\n"
     ]
    }
   ],
   "source": [
    "rlist = []\n",
    "ruser = input('Geben sie die Namen ein mit , \\n')\n",
    "rlist.append(str(ruser))\n",
    "print(rlist)"
   ]
  },
  {
   "cell_type": "code",
   "execution_count": 1,
   "id": "50bbb397",
   "metadata": {},
   "outputs": [
    {
     "name": "stdout",
     "output_type": "stream",
     "text": [
      "Namen mit Enter bestätigen,\n",
      "wenn Ende mit # und Enter beenden.\n",
      "test\n",
      "test\n",
      "test\n",
      "#\n",
      "3 Namen eingetragen.\n",
      "['test', 'test', 'test']\n"
     ]
    }
   ],
   "source": [
    "rlist = []\n",
    "print(\"Namen mit Enter bestätigen,\\n\"\n",
    "     \"wenn Ende mit # und Enter beenden.\")\n",
    "while True:\n",
    "    ruser = input('')\n",
    "    if ruser == '#':\n",
    "        break\n",
    "    else:\n",
    "        rlist.append(str(ruser))\n",
    "a = (len(rlist))\n",
    "print(a , str(\"Namen eingetragen.\"))\n",
    "print(rlist)"
   ]
  },
  {
   "cell_type": "code",
   "execution_count": 9,
   "id": "10928f92",
   "metadata": {},
   "outputs": [
    {
     "name": "stdout",
     "output_type": "stream",
     "text": [
      "Namen mit Enter bestätigen,\n",
      "wenn Ende mit # und Enter beenden.\n",
      "peter\n",
      "lara\n",
      "karl\n",
      "#\n",
      "3 Namen eingetragen.\n",
      "['peter', 'lara']\n",
      "lara\n",
      "Gepickt wurde:  karl\n"
     ]
    }
   ],
   "source": [
    "import random\n",
    "\n",
    "rlist = []\n",
    "print(\"Namen mit Enter bestätigen,\\n\"\n",
    "     \"wenn Ende mit # und Enter beenden.\")\n",
    "while True:\n",
    "    ruser = input('')\n",
    "    if ruser == '#':\n",
    "        break\n",
    "    else:\n",
    "        rlist.append(str(ruser))\n",
    "a = (len(rlist))\n",
    "b = rlist.pop()\n",
    "print(a , str(\"Namen eingetragen.\"))\n",
    "print(rlist)\n",
    "rabfrage = random.choice(rlist)\n",
    "print(rabfrage)\n",
    "print(\"Gepickt wurde: \" , (b))"
   ]
  },
  {
   "cell_type": "code",
   "execution_count": 16,
   "id": "716a9a90",
   "metadata": {},
   "outputs": [
    {
     "name": "stdout",
     "output_type": "stream",
     "text": [
      "Namen mit Enter bestätigen,\n",
      "wenn Ende mit # und Enter beenden.\n",
      "max\n",
      "moritz\n",
      "peter\n",
      "#\n",
      "3 Namen eingetragen.\n",
      "['max', 'moritz', 'peter']\n",
      "User: moritz du bist.\n"
     ]
    }
   ],
   "source": [
    "#by Julian Hastler aka.SKIP 04/13/2022\n",
    "import random\n",
    "\n",
    "rlist = []\n",
    "print(\"Namen mit Enter bestätigen,\\n\"\n",
    "     \"wenn Ende mit # und Enter beenden.\")\n",
    "while True:\n",
    "    ruser = input('')\n",
    "    if ruser == '#':\n",
    "        break\n",
    "    else:\n",
    "        rlist.append(str(ruser))\n",
    "a = (len(rlist))\n",
    "print(a , str(\"Namen eingetragen.\"))\n",
    "print(rlist)\n",
    "rabfrage = random.choice(rlist)\n",
    "print(\"User:\" , (rabfrage) , \"du bist.\")"
   ]
  },
  {
   "cell_type": "code",
   "execution_count": null,
   "id": "d333effe",
   "metadata": {},
   "outputs": [],
   "source": []
  }
 ],
 "metadata": {
  "kernelspec": {
   "display_name": "Python 3 (ipykernel)",
   "language": "python",
   "name": "python3"
  },
  "language_info": {
   "codemirror_mode": {
    "name": "ipython",
    "version": 3
   },
   "file_extension": ".py",
   "mimetype": "text/x-python",
   "name": "python",
   "nbconvert_exporter": "python",
   "pygments_lexer": "ipython3",
   "version": "3.9.7"
  }
 },
 "nbformat": 4,
 "nbformat_minor": 5
}
